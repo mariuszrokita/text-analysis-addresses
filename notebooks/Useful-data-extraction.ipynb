{
 "cells": [
  {
   "cell_type": "markdown",
   "metadata": {},
   "source": [
    "# Regionalne Izby Obrachunkowe"
   ]
  },
  {
   "cell_type": "code",
   "execution_count": 1,
   "metadata": {},
   "outputs": [
    {
     "name": "stdout",
     "output_type": "stream",
     "text": [
      "done!\n"
     ]
    }
   ],
   "source": [
    "import numpy as np\n",
    "import pandas as pd\n",
    "\n",
    "df_data = pd.read_excel('../data/raw/rio/Izby-obrachunkowe.xlsx')\n",
    "\n",
    "# drop useless record\n",
    "df_data.drop([0], inplace=True)\n",
    "\n",
    "# retrieve what interests me most\n",
    "addresses = []\n",
    "np.random.seed(seed=21)\n",
    "\n",
    "for i in range(1, df_data.shape[0], 2):\n",
    "    street_and_number = df_data.loc[i, \"Adres\"]\n",
    "    post_code_and_city = df_data.loc[i+1, \"Adres\"]\n",
    "    \n",
    "    # make data a bit dirty\n",
    "    if (np.random.randint(low=0, high=2) % 2 == 0):\n",
    "        addresses.append(\"{} {}\".format(street_and_number, post_code_and_city))\n",
    "    else:\n",
    "        addresses.append(\"{} {}\".format(post_code_and_city, street_and_number))        \n",
    "\n",
    "# save data to file\n",
    "df_addresses = pd.DataFrame(addresses)\n",
    "df_addresses.to_csv('../data/processed/rio.csv', header=False, index=False, encoding='utf-8')\n",
    "print('done!')"
   ]
  }
 ],
 "metadata": {
  "kernelspec": {
   "display_name": "Python 3",
   "language": "python",
   "name": "python3"
  },
  "language_info": {
   "codemirror_mode": {
    "name": "ipython",
    "version": 3
   },
   "file_extension": ".py",
   "mimetype": "text/x-python",
   "name": "python",
   "nbconvert_exporter": "python",
   "pygments_lexer": "ipython3",
   "version": "3.6.2"
  }
 },
 "nbformat": 4,
 "nbformat_minor": 2
}
