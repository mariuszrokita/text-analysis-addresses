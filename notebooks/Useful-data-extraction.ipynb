{
 "cells": [
  {
   "cell_type": "markdown",
   "metadata": {},
   "source": [
    "# Regionalne Izby Obrachunkowe"
   ]
  },
  {
   "cell_type": "code",
   "execution_count": 1,
   "metadata": {},
   "outputs": [
    {
     "name": "stdout",
     "output_type": "stream",
     "text": [
      "done!\n"
     ]
    }
   ],
   "source": [
    "import numpy as np\n",
    "import pandas as pd\n",
    "\n",
    "df_data = pd.read_excel('../data/raw/rio/Izby-obrachunkowe.xlsx')\n",
    "\n",
    "# drop useless record\n",
    "df_data.drop([0], inplace=True)\n",
    "\n",
    "# retrieve what interests me most\n",
    "addresses = []\n",
    "np.random.seed(seed=21)\n",
    "\n",
    "for i in range(1, df_data.shape[0], 2):\n",
    "    street_and_number = df_data.loc[i, \"Adres\"]\n",
    "    post_code_and_city = df_data.loc[i+1, \"Adres\"]\n",
    "    \n",
    "    # make data a bit dirty\n",
    "    if (np.random.randint(low=0, high=2) % 2 == 0):\n",
    "        addresses.append(\"{} {}\".format(street_and_number, post_code_and_city))\n",
    "    else:\n",
    "        addresses.append(\"{} {}\".format(post_code_and_city, street_and_number))        \n",
    "\n",
    "# save data to file\n",
    "df_addresses1 = pd.DataFrame(addresses)\n",
    "df_addresses1.to_csv('../data/processed/rio.csv', header=False, index=False, encoding='utf-8')\n",
    "print('done!')"
   ]
  },
  {
   "cell_type": "markdown",
   "metadata": {},
   "source": [
    "# Poczta Polska"
   ]
  },
  {
   "cell_type": "code",
   "execution_count": 2,
   "metadata": {},
   "outputs": [
    {
     "name": "stdout",
     "output_type": "stream",
     "text": [
      "reading file:  02.xml\n",
      "reading file:  04.xml\n",
      "reading file:  06.xml\n",
      "reading file:  08.xml\n",
      "reading file:  10.xml\n",
      "reading file:  12.xml\n",
      "reading file:  14.xml\n",
      "reading file:  16.xml\n",
      "reading file:  18.xml\n",
      "reading file:  20.xml\n",
      "reading file:  22.xml\n",
      "reading file:  24.xml\n",
      "reading file:  26.xml\n",
      "reading file:  28.xml\n",
      "reading file:  30.xml\n",
      "reading file:  32.xml\n",
      "Saved all data. Done!\n"
     ]
    }
   ],
   "source": [
    "import xml.etree.ElementTree as ET\n",
    "import os\n",
    "\n",
    "root_directory = '../data/raw/poczta/'\n",
    "\n",
    "addresses = []\n",
    "\n",
    "# process all files in the directory\n",
    "for filename in os.listdir(root_directory):\n",
    "    full_filename = root_directory + filename\n",
    "    print('reading file: ', filename)\n",
    "    \n",
    "    # read and parse xml file\n",
    "    doc_tree = ET.parse(full_filename)\n",
    "    doc_root = doc_tree.getroot()\n",
    "\n",
    "    # retrieve what interests us most\n",
    "    for record in doc_root.iter('r'):\n",
    "        city = record.get('m')\n",
    "        post_code = record.get('k')\n",
    "        street = record.get('u')\n",
    "\n",
    "        # make data a bit dirty\n",
    "        if (np.random.randint(low=0, high=2) % 2 == 0):\n",
    "            addresses.append(\"{} {} {}\".format(street, post_code, city))\n",
    "        else:\n",
    "            addresses.append(\"{} {} {}\".format(post_code, city, street)) \n",
    "\n",
    "# save data to file\n",
    "df_addresses2 = pd.DataFrame(addresses)\n",
    "df_addresses2.to_csv('../data/processed/poczta.csv', header=False, index=False, encoding='utf-8')\n",
    "print('Saved all data. Done!')"
   ]
  },
  {
   "cell_type": "markdown",
   "metadata": {},
   "source": [
    "# Panorama Firm"
   ]
  },
  {
   "cell_type": "code",
   "execution_count": 3,
   "metadata": {},
   "outputs": [],
   "source": [
    "# Data retrieved from Panorama Firm does not contain post codes.\n",
    "# We need to enrich our data by using post codes database.\n",
    "df_postcodes = pd.read_csv('../data/raw/kody_pocztowe/kody.csv', delimiter=';')\n",
    "\n",
    "def get_postcode (city):\n",
    "    #return '00-000'\n",
    "    postcodes_in_city = df_postcodes[ df_postcodes[\"MIEJSCOWOŚĆ\"] == city ]\n",
    "    if (postcodes_in_city.shape[0] > 0):\n",
    "        return postcodes_in_city.sample(1).iloc[0][\"KOD POCZTOWY\"]\n",
    "    else:\n",
    "        return '00-000'"
   ]
  },
  {
   "cell_type": "code",
   "execution_count": 4,
   "metadata": {},
   "outputs": [
    {
     "name": "stdout",
     "output_type": "stream",
     "text": [
      "reading file:  ../data/raw/panorama-firm/fryzjerzy-wielkopolskie-1.html\n",
      "reading file:  ../data/raw/panorama-firm/fryzjerzy-wielkopolskie-10.html\n",
      "reading file:  ../data/raw/panorama-firm/fryzjerzy-wielkopolskie-11.html\n",
      "reading file:  ../data/raw/panorama-firm/fryzjerzy-wielkopolskie-12.html\n",
      "reading file:  ../data/raw/panorama-firm/fryzjerzy-wielkopolskie-13.html\n",
      "reading file:  ../data/raw/panorama-firm/fryzjerzy-wielkopolskie-14.html\n",
      "reading file:  ../data/raw/panorama-firm/fryzjerzy-wielkopolskie-15.html\n",
      "reading file:  ../data/raw/panorama-firm/fryzjerzy-wielkopolskie-16.html\n",
      "reading file:  ../data/raw/panorama-firm/fryzjerzy-wielkopolskie-17.html\n",
      "reading file:  ../data/raw/panorama-firm/fryzjerzy-wielkopolskie-18.html\n",
      "reading file:  ../data/raw/panorama-firm/fryzjerzy-wielkopolskie-19.html\n",
      "reading file:  ../data/raw/panorama-firm/fryzjerzy-wielkopolskie-2.html\n",
      "reading file:  ../data/raw/panorama-firm/fryzjerzy-wielkopolskie-20.html\n",
      "reading file:  ../data/raw/panorama-firm/fryzjerzy-wielkopolskie-3.html\n",
      "reading file:  ../data/raw/panorama-firm/fryzjerzy-wielkopolskie-4.html\n",
      "reading file:  ../data/raw/panorama-firm/fryzjerzy-wielkopolskie-5.html\n",
      "reading file:  ../data/raw/panorama-firm/fryzjerzy-wielkopolskie-6.html\n",
      "reading file:  ../data/raw/panorama-firm/fryzjerzy-wielkopolskie-7.html\n",
      "reading file:  ../data/raw/panorama-firm/fryzjerzy-wielkopolskie-8.html\n",
      "reading file:  ../data/raw/panorama-firm/fryzjerzy-wielkopolskie-9.html\n",
      "Saved all data. Done!\n"
     ]
    }
   ],
   "source": [
    "from bs4 import BeautifulSoup\n",
    "import sys\n",
    "\n",
    "root_directory = '../data/raw/panorama-firm/'\n",
    "\n",
    "addresses = []\n",
    "\n",
    "# process all files in the directory\n",
    "for filename in os.listdir(root_directory):\n",
    "    full_filename = root_directory + filename\n",
    "    print('reading file: ', full_filename)\n",
    "    \n",
    "    # read file content\n",
    "    file = open(full_filename, 'r', encoding=\"utf-8\")\n",
    "    html_doc = file.read()\n",
    "    file.close()\n",
    "    \n",
    "    # parse HTML document and get what interests us most\n",
    "    soup = BeautifulSoup(html_doc, 'html.parser')\n",
    "    for span in soup.select(\"i.icon-location ~ span\"):\n",
    "        # get rid of whitespaces from HTML file\n",
    "        address = span.text.strip()\n",
    "\n",
    "        if \",\" in address:\n",
    "            street_and_number = address[:address.index(\",\")].strip()\n",
    "            city = address[address.index(\",\"):].replace(\",\", \"\").strip()\n",
    "            postcode = get_postcode(city)\n",
    "            \n",
    "            # make data a bit dirty\n",
    "            if (np.random.randint(low=0, high=2) % 2 == 0):\n",
    "                addresses.append(\"{} {} {}\".format(street_and_number, city, postcode))\n",
    "            else:\n",
    "                addresses.append(\"{} {} {}\".format(postcode, city, street_and_number))\n",
    "        else:\n",
    "            addresses.append(address)\n",
    "\n",
    "# save data to file\n",
    "df_addresses3 = pd.DataFrame(addresses)\n",
    "df_addresses3.to_csv('../data/processed/panorama-firm.csv', header=False, index=False, encoding='utf-8')\n",
    "print('Saved all data. Done!')"
   ]
  },
  {
   "cell_type": "markdown",
   "metadata": {},
   "source": [
    "#### Merged addresses"
   ]
  },
  {
   "cell_type": "code",
   "execution_count": 5,
   "metadata": {},
   "outputs": [
    {
     "name": "stdout",
     "output_type": "stream",
     "text": [
      "Saved all data. Done!\n",
      "(7570, 1)\n"
     ]
    }
   ],
   "source": [
    "frames = [df_addresses1, df_addresses2, df_addresses3]\n",
    "df_addresses_all = pd.concat(frames)\n",
    "\n",
    "# save data to file\n",
    "df_addresses_all.to_csv('../data/processed/addresses.csv', header=False, index=False, encoding='utf-8')\n",
    "print('Saved all data. Done!')\n",
    "\n",
    "print(df_addresses_all.shape)"
   ]
  }
 ],
 "metadata": {
  "kernelspec": {
   "display_name": "Python 3",
   "language": "python",
   "name": "python3"
  },
  "language_info": {
   "codemirror_mode": {
    "name": "ipython",
    "version": 3
   },
   "file_extension": ".py",
   "mimetype": "text/x-python",
   "name": "python",
   "nbconvert_exporter": "python",
   "pygments_lexer": "ipython3",
   "version": "3.6.2"
  }
 },
 "nbformat": 4,
 "nbformat_minor": 2
}
