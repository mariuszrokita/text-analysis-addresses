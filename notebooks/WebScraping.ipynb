{
 "cells": [
  {
   "cell_type": "code",
   "execution_count": 2,
   "metadata": {},
   "outputs": [
    {
     "name": "stdout",
     "output_type": "stream",
     "text": [
      "url: https://panoramafirm.pl/fryzjerzy/wielkopolskie/firmy,1.html\n",
      "file: ../data/raw/panorama-firm/fryzjerzy-wielkopolskie-1.html\n",
      "\n",
      "url: https://panoramafirm.pl/fryzjerzy/wielkopolskie/firmy,2.html\n",
      "file: ../data/raw/panorama-firm/fryzjerzy-wielkopolskie-2.html\n",
      "\n",
      "url: https://panoramafirm.pl/fryzjerzy/wielkopolskie/firmy,3.html\n",
      "file: ../data/raw/panorama-firm/fryzjerzy-wielkopolskie-3.html\n",
      "\n",
      "url: https://panoramafirm.pl/fryzjerzy/wielkopolskie/firmy,4.html\n",
      "file: ../data/raw/panorama-firm/fryzjerzy-wielkopolskie-4.html\n",
      "\n",
      "url: https://panoramafirm.pl/fryzjerzy/wielkopolskie/firmy,5.html\n",
      "file: ../data/raw/panorama-firm/fryzjerzy-wielkopolskie-5.html\n",
      "\n",
      "url: https://panoramafirm.pl/fryzjerzy/wielkopolskie/firmy,6.html\n",
      "file: ../data/raw/panorama-firm/fryzjerzy-wielkopolskie-6.html\n",
      "\n",
      "url: https://panoramafirm.pl/fryzjerzy/wielkopolskie/firmy,7.html\n",
      "file: ../data/raw/panorama-firm/fryzjerzy-wielkopolskie-7.html\n",
      "\n",
      "url: https://panoramafirm.pl/fryzjerzy/wielkopolskie/firmy,8.html\n",
      "file: ../data/raw/panorama-firm/fryzjerzy-wielkopolskie-8.html\n",
      "\n",
      "url: https://panoramafirm.pl/fryzjerzy/wielkopolskie/firmy,9.html\n",
      "file: ../data/raw/panorama-firm/fryzjerzy-wielkopolskie-9.html\n",
      "\n",
      "url: https://panoramafirm.pl/fryzjerzy/wielkopolskie/firmy,10.html\n",
      "file: ../data/raw/panorama-firm/fryzjerzy-wielkopolskie-10.html\n",
      "\n",
      "url: https://panoramafirm.pl/fryzjerzy/wielkopolskie/firmy,11.html\n",
      "file: ../data/raw/panorama-firm/fryzjerzy-wielkopolskie-11.html\n",
      "\n",
      "url: https://panoramafirm.pl/fryzjerzy/wielkopolskie/firmy,12.html\n",
      "file: ../data/raw/panorama-firm/fryzjerzy-wielkopolskie-12.html\n",
      "\n",
      "url: https://panoramafirm.pl/fryzjerzy/wielkopolskie/firmy,13.html\n",
      "file: ../data/raw/panorama-firm/fryzjerzy-wielkopolskie-13.html\n",
      "\n",
      "url: https://panoramafirm.pl/fryzjerzy/wielkopolskie/firmy,14.html\n",
      "file: ../data/raw/panorama-firm/fryzjerzy-wielkopolskie-14.html\n",
      "\n",
      "url: https://panoramafirm.pl/fryzjerzy/wielkopolskie/firmy,15.html\n",
      "file: ../data/raw/panorama-firm/fryzjerzy-wielkopolskie-15.html\n",
      "\n",
      "url: https://panoramafirm.pl/fryzjerzy/wielkopolskie/firmy,16.html\n",
      "file: ../data/raw/panorama-firm/fryzjerzy-wielkopolskie-16.html\n",
      "\n",
      "url: https://panoramafirm.pl/fryzjerzy/wielkopolskie/firmy,17.html\n",
      "file: ../data/raw/panorama-firm/fryzjerzy-wielkopolskie-17.html\n",
      "\n",
      "url: https://panoramafirm.pl/fryzjerzy/wielkopolskie/firmy,18.html\n",
      "file: ../data/raw/panorama-firm/fryzjerzy-wielkopolskie-18.html\n",
      "\n",
      "url: https://panoramafirm.pl/fryzjerzy/wielkopolskie/firmy,19.html\n",
      "file: ../data/raw/panorama-firm/fryzjerzy-wielkopolskie-19.html\n",
      "\n",
      "url: https://panoramafirm.pl/fryzjerzy/wielkopolskie/firmy,20.html\n",
      "file: ../data/raw/panorama-firm/fryzjerzy-wielkopolskie-20.html\n",
      "\n"
     ]
    }
   ],
   "source": [
    "# get data from panorama firm\n",
    "import pycurl\n",
    "import time\n",
    "\n",
    "for i in range(1, 21):\n",
    "    # Polite web scraping\n",
    "    time.sleep(5)    \n",
    "    \n",
    "    url = 'https://panoramafirm.pl/fryzjerzy/wielkopolskie/firmy,{}.html'.format(i)\n",
    "    filename = '../data/raw/panorama-firm/fryzjerzy-wielkopolskie-{}.html'.format(i)\n",
    "    with open(filename, 'wb') as f:\n",
    "        print('url: {}'.format(url))\n",
    "        print('file: {}'.format(filename))\n",
    "        print('')\n",
    "        c = pycurl.Curl()\n",
    "        c.setopt(c.URL, url)        \n",
    "        c.setopt(c.WRITEDATA, f)\n",
    "        c.perform()\n",
    "        c.close()"
   ]
  }
 ],
 "metadata": {
  "kernelspec": {
   "display_name": "Python 3",
   "language": "python",
   "name": "python3"
  },
  "language_info": {
   "codemirror_mode": {
    "name": "ipython",
    "version": 3
   },
   "file_extension": ".py",
   "mimetype": "text/x-python",
   "name": "python",
   "nbconvert_exporter": "python",
   "pygments_lexer": "ipython3",
   "version": "3.6.2"
  }
 },
 "nbformat": 4,
 "nbformat_minor": 2
}
